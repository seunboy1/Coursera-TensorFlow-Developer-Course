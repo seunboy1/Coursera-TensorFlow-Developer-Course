{
 "cells": [
  {
   "cell_type": "code",
   "execution_count": 1,
   "id": "a4bc0bd6-9ad8-4201-a384-bef65db2f29f",
   "metadata": {},
   "outputs": [
    {
     "name": "stdout",
     "output_type": "stream",
     "text": [
      "2.4.1\n"
     ]
    }
   ],
   "source": [
    "import tensorflow as tf\n",
    "import numpy as np\n",
    "import matplotlib.pyplot as plt\n",
    "print(tf.__version__)"
   ]
  },
  {
   "cell_type": "code",
   "execution_count": 44,
   "id": "f8667e1a-671d-4f07-96a7-9ffb1f5bcf81",
   "metadata": {},
   "outputs": [
    {
     "data": {
      "image/png": "[encoded data removed]",
      "text/plain": [
       "<Figure size 432x288 with 1 Axes>"
      ]
     },
     "metadata": {
      "needs_background": "light"
     },
     "output_type": "display_data"
    }
   ],
   "source": [
    "def plot_series(time, series, format=\"-\", start=0, end=None):\n",
    "    plt.plot(time[start:end], series[start:end], format)\n",
    "    plt.xlabel(\"Time\")\n",
    "    plt.ylabel(\"Value\")\n",
    "    plt.grid(False)\n",
    "\n",
    "def trend(time, slope=0):\n",
    "    return slope * time\n",
    "\n",
    "def seasonal_pattern(season_time):\n",
    "    \"\"\"Just an arbitrary pattern, you can change it if you wish\"\"\"\n",
    "    return np.where(season_time < 0.1,\n",
    "                    np.cos(season_time * 6 * np.pi),\n",
    "                    2 / np.exp(9 * season_time))\n",
    "    \n",
    "def seasonality(time, period, amplitude=1, phase=0):\n",
    "    \"\"\"Repeats the same pattern at each period\"\"\"\n",
    "    season_time = ((time + phase) % period) / period\n",
    "    return amplitude * seasonal_pattern(season_time)\n",
    "\n",
    "def noise(time, noise_level=1, seed=None):\n",
    "    rnd = np.random.RandomState(seed)\n",
    "    return rnd.randn(len(time)) * noise_level\n",
    "\n",
    "time = np.arange(10 * 365 + 1, dtype=\"float32\")\n",
    "baseline = 10\n",
    "series = trend(time, 0.1)  \n",
    "baseline = 10\n",
    "amplitude = 40\n",
    "slope = 0.005\n",
    "noise_level = 3\n",
    "\n",
    "# Create the series\n",
    "series = baseline + trend(time, slope) + seasonality(time, period=365, amplitude=amplitude)\n",
    "# Update with noise\n",
    "series += noise(time, noise_level, seed=51)\n",
    "\n",
    "split_time = 3000\n",
    "time_train = time[:split_time]\n",
    "x_train = series[:split_time]\n",
    "time_valid = time[split_time:]\n",
    "x_valid = series[split_time:]\n",
    "\n",
    "window_size = 20\n",
    "batch_size = 128\n",
    "shuffle_buffer_size = 1000\n",
    "\n",
    "plot_series(time, series)"
   ]
  },
  {
   "cell_type": "code",
   "execution_count": 3,
   "id": "c579e64f-46f7-4d47-b522-108dae177711",
   "metadata": {},
   "outputs": [],
   "source": [
    "def windowed_dataset(series, window_size, batch_size, shuffle_buffer):\n",
    "  dataset = tf.data.Dataset.from_tensor_slices(series)\n",
    "  dataset = dataset.window(window_size + 1, shift=1, drop_remainder=True)\n",
    "  dataset = dataset.flat_map(lambda window: window.batch(window_size + 1))\n",
    "  dataset = dataset.shuffle(shuffle_buffer).map(lambda window: (window[:-1], window[-1]))\n",
    "  dataset = dataset.batch(batch_size).prefetch(1)\n",
    "  return dataset"
   ]
  },
  {
   "cell_type": "code",
   "execution_count": 4,
   "id": "89cf22ea-9468-4868-a27b-e6ee38fb1e28",
   "metadata": {
    "collapsed": true,
    "jupyter": {
     "outputs_hidden": true
    },
    "tags": []
   },
   "outputs": [
    {
     "name": "stdout",
     "output_type": "stream",
     "text": [
      "Epoch 1/100\n",
      "94/94 [==============================] - 2s 14ms/step - loss: 35.0383\n",
      "Epoch 2/100\n",
      "94/94 [==============================] - 0s 2ms/step - loss: 35.1618\n",
      "Epoch 3/100\n",
      "94/94 [==============================] - 0s 2ms/step - loss: 35.3347\n",
      "Epoch 4/100\n",
      "94/94 [==============================] - 0s 2ms/step - loss: 35.1987\n",
      "Epoch 5/100\n",
      "94/94 [==============================] - 0s 2ms/step - loss: 34.8236\n",
      "Epoch 6/100\n",
      "94/94 [==============================] - 0s 2ms/step - loss: 34.7520\n",
      "Epoch 7/100\n",
      "94/94 [==============================] - 0s 3ms/step - loss: 35.0109\n",
      "Epoch 8/100\n",
      "94/94 [==============================] - 0s 2ms/step - loss: 34.9047\n",
      "Epoch 9/100\n",
      "94/94 [==============================] - 0s 2ms/step - loss: 34.2210\n",
      "Epoch 10/100\n",
      "94/94 [==============================] - 0s 2ms/step - loss: 33.8038\n",
      "Epoch 11/100\n",
      "94/94 [==============================] - 0s 1ms/step - loss: 34.1938\n",
      "Epoch 12/100\n",
      "94/94 [==============================] - 0s 2ms/step - loss: 34.4968\n",
      "Epoch 13/100\n",
      "94/94 [==============================] - 0s 1ms/step - loss: 33.8066\n",
      "Epoch 14/100\n",
      "94/94 [==============================] - 0s 2ms/step - loss: 33.2818\n",
      "Epoch 15/100\n",
      "94/94 [==============================] - 0s 1ms/step - loss: 33.0784\n",
      "Epoch 16/100\n",
      "94/94 [==============================] - 0s 2ms/step - loss: 32.7282\n",
      "Epoch 17/100\n",
      "94/94 [==============================] - 0s 2ms/step - loss: 32.9340\n",
      "Epoch 18/100\n",
      "94/94 [==============================] - 0s 1ms/step - loss: 32.0938\n",
      "Epoch 19/100\n",
      "94/94 [==============================] - 0s 2ms/step - loss: 31.7245\n",
      "Epoch 20/100\n",
      "94/94 [==============================] - 0s 2ms/step - loss: 31.4699\n",
      "Epoch 21/100\n",
      "94/94 [==============================] - 0s 2ms/step - loss: 30.8121\n",
      "Epoch 22/100\n",
      "94/94 [==============================] - 0s 3ms/step - loss: 30.4628\n",
      "Epoch 23/100\n",
      "94/94 [==============================] - 0s 2ms/step - loss: 29.7627\n",
      "Epoch 24/100\n",
      "94/94 [==============================] - 0s 2ms/step - loss: 29.1762\n",
      "Epoch 25/100\n",
      "94/94 [==============================] - 0s 2ms/step - loss: 28.5973\n",
      "Epoch 26/100\n",
      "94/94 [==============================] - 0s 1ms/step - loss: 27.7198\n",
      "Epoch 27/100\n",
      "94/94 [==============================] - 0s 1ms/step - loss: 26.9366\n",
      "Epoch 28/100\n",
      "94/94 [==============================] - 0s 2ms/step - loss: 25.9202\n",
      "Epoch 29/100\n",
      "94/94 [==============================] - 0s 2ms/step - loss: 24.9621\n",
      "Epoch 30/100\n",
      "94/94 [==============================] - 0s 2ms/step - loss: 23.8864\n",
      "Epoch 31/100\n",
      "94/94 [==============================] - 0s 2ms/step - loss: 22.9482\n",
      "Epoch 32/100\n",
      "94/94 [==============================] - 0s 2ms/step - loss: 21.6111\n",
      "Epoch 33/100\n",
      "94/94 [==============================] - 0s 2ms/step - loss: 19.6808\n",
      "Epoch 34/100\n",
      "94/94 [==============================] - 0s 2ms/step - loss: 18.8041\n",
      "Epoch 35/100\n",
      "94/94 [==============================] - 0s 2ms/step - loss: 17.1350\n",
      "Epoch 36/100\n",
      "94/94 [==============================] - 0s 2ms/step - loss: 15.9560\n",
      "Epoch 37/100\n",
      "94/94 [==============================] - 0s 2ms/step - loss: 14.8382\n",
      "Epoch 38/100\n",
      "94/94 [==============================] - 0s 2ms/step - loss: 13.6867\n",
      "Epoch 39/100\n",
      "94/94 [==============================] - 0s 2ms/step - loss: 12.4407\n",
      "Epoch 40/100\n",
      "94/94 [==============================] - 0s 2ms/step - loss: 11.1542\n",
      "Epoch 41/100\n",
      "94/94 [==============================] - 0s 2ms/step - loss: 9.4430\n",
      "Epoch 42/100\n",
      "94/94 [==============================] - 0s 2ms/step - loss: 7.5840\n",
      "Epoch 43/100\n",
      "94/94 [==============================] - 0s 2ms/step - loss: 6.1344\n",
      "Epoch 44/100\n",
      "94/94 [==============================] - 0s 2ms/step - loss: 5.8936\n",
      "Epoch 45/100\n",
      "94/94 [==============================] - 0s 2ms/step - loss: 5.9824\n",
      "Epoch 46/100\n",
      "94/94 [==============================] - 0s 2ms/step - loss: 5.7731\n",
      "Epoch 47/100\n",
      "94/94 [==============================] - 0s 2ms/step - loss: 5.5850\n",
      "Epoch 48/100\n",
      "94/94 [==============================] - 0s 2ms/step - loss: 5.7051\n",
      "Epoch 49/100\n",
      "94/94 [==============================] - 0s 2ms/step - loss: 5.8403\n",
      "Epoch 50/100\n",
      "94/94 [==============================] - 0s 2ms/step - loss: 5.8023\n",
      "Epoch 51/100\n",
      "94/94 [==============================] - 0s 2ms/step - loss: 5.4795\n",
      "Epoch 52/100\n",
      "94/94 [==============================] - 0s 2ms/step - loss: 5.4697\n",
      "Epoch 53/100\n",
      "94/94 [==============================] - 0s 2ms/step - loss: 5.3808\n",
      "Epoch 54/100\n",
      "94/94 [==============================] - 0s 2ms/step - loss: 5.4723\n",
      "Epoch 55/100\n",
      "94/94 [==============================] - 0s 3ms/step - loss: 5.4242\n",
      "Epoch 56/100\n",
      "94/94 [==============================] - 0s 2ms/step - loss: 5.1935\n",
      "Epoch 57/100\n",
      "94/94 [==============================] - 0s 2ms/step - loss: 5.1174\n",
      "Epoch 58/100\n",
      "94/94 [==============================] - 0s 3ms/step - loss: 4.9911\n",
      "Epoch 59/100\n",
      "94/94 [==============================] - 0s 2ms/step - loss: 4.9736\n",
      "Epoch 60/100\n",
      "94/94 [==============================] - 0s 3ms/step - loss: 4.7987\n",
      "Epoch 61/100\n",
      "94/94 [==============================] - 0s 3ms/step - loss: 4.5922\n",
      "Epoch 62/100\n",
      "94/94 [==============================] - 0s 2ms/step - loss: 4.4886\n",
      "Epoch 63/100\n",
      "94/94 [==============================] - 0s 3ms/step - loss: 4.3023\n",
      "Epoch 64/100\n",
      "94/94 [==============================] - 0s 3ms/step - loss: 4.2057\n",
      "Epoch 65/100\n",
      "94/94 [==============================] - 0s 3ms/step - loss: 4.0488\n",
      "Epoch 66/100\n",
      "94/94 [==============================] - 0s 3ms/step - loss: 3.9683\n",
      "Epoch 67/100\n",
      "94/94 [==============================] - 0s 3ms/step - loss: 3.7595\n",
      "Epoch 68/100\n",
      "94/94 [==============================] - 0s 3ms/step - loss: 3.7994\n",
      "Epoch 69/100\n",
      "94/94 [==============================] - 0s 2ms/step - loss: 3.7652\n",
      "Epoch 70/100\n",
      "94/94 [==============================] - 0s 2ms/step - loss: 3.7220\n",
      "Epoch 71/100\n",
      "94/94 [==============================] - 0s 3ms/step - loss: 3.5032\n",
      "Epoch 72/100\n",
      "94/94 [==============================] - 0s 2ms/step - loss: 3.5347\n",
      "Epoch 73/100\n",
      "94/94 [==============================] - 0s 2ms/step - loss: 3.5007\n",
      "Epoch 74/100\n",
      "94/94 [==============================] - 0s 2ms/step - loss: 3.5821\n",
      "Epoch 75/100\n",
      "94/94 [==============================] - 0s 2ms/step - loss: 3.3839\n",
      "Epoch 76/100\n",
      "94/94 [==============================] - 0s 2ms/step - loss: 3.5754\n",
      "Epoch 77/100\n",
      "94/94 [==============================] - 0s 2ms/step - loss: 3.5183\n",
      "Epoch 78/100\n",
      "94/94 [==============================] - 0s 2ms/step - loss: 3.2704\n",
      "Epoch 79/100\n",
      "94/94 [==============================] - 0s 3ms/step - loss: 3.5025\n",
      "Epoch 80/100\n",
      "94/94 [==============================] - 0s 2ms/step - loss: 3.2703\n",
      "Epoch 81/100\n",
      "94/94 [==============================] - 0s 2ms/step - loss: 3.5268\n",
      "Epoch 82/100\n",
      "94/94 [==============================] - 0s 2ms/step - loss: 3.3558\n",
      "Epoch 83/100\n",
      "94/94 [==============================] - 0s 2ms/step - loss: 3.2129\n",
      "Epoch 84/100\n",
      "94/94 [==============================] - 0s 2ms/step - loss: 3.3050\n",
      "Epoch 85/100\n",
      "94/94 [==============================] - 0s 2ms/step - loss: 3.1733\n",
      "Epoch 86/100\n",
      "94/94 [==============================] - 0s 3ms/step - loss: 3.3626\n",
      "Epoch 87/100\n",
      "94/94 [==============================] - 0s 1ms/step - loss: 3.3001\n",
      "Epoch 88/100\n",
      "94/94 [==============================] - 0s 2ms/step - loss: 3.3319\n",
      "Epoch 89/100\n",
      "94/94 [==============================] - 0s 2ms/step - loss: 3.2160\n",
      "Epoch 90/100\n",
      "94/94 [==============================] - 0s 2ms/step - loss: 3.5862\n",
      "Epoch 91/100\n",
      "94/94 [==============================] - 0s 2ms/step - loss: 3.2558\n",
      "Epoch 92/100\n",
      "94/94 [==============================] - 0s 2ms/step - loss: 3.2001\n",
      "Epoch 93/100\n",
      "94/94 [==============================] - 0s 2ms/step - loss: 3.2508\n",
      "Epoch 94/100\n",
      "94/94 [==============================] - 0s 1ms/step - loss: 3.3597\n",
      "Epoch 95/100\n",
      "94/94 [==============================] - 0s 3ms/step - loss: 3.2272\n",
      "Epoch 96/100\n",
      "94/94 [==============================] - 0s 2ms/step - loss: 3.5016\n",
      "Epoch 97/100\n",
      "94/94 [==============================] - 0s 2ms/step - loss: 3.2090\n",
      "Epoch 98/100\n",
      "94/94 [==============================] - 0s 3ms/step - loss: 3.4770\n",
      "Epoch 99/100\n",
      "94/94 [==============================] - 0s 2ms/step - loss: 3.3338\n",
      "Epoch 100/100\n",
      "94/94 [==============================] - 0s 2ms/step - loss: 3.4333\n"
     ]
    }
   ],
   "source": [
    "dataset = windowed_dataset(x_train, window_size, batch_size, shuffle_buffer_size)\n",
    "\n",
    "\n",
    "model = tf.keras.models.Sequential([\n",
    "    tf.keras.layers.Dense(20,input_shape=[window_size], activation=\"relu\"),\n",
    "    tf.keras.layers.Dense(10, activation=\"relu\"), \n",
    "    tf.keras.layers.Dense(1)\n",
    "])\n",
    "lr_schedule = tf.keras.callbacks.LearningRateScheduler(\n",
    "    lambda epoch: 1e-8 * 10**(epoch / 20))\n",
    "model.compile(loss=\"mae\", optimizer=tf.keras.optimizers.SGD(lr=1e-8, momentum=0.9))\n",
    "history = model.fit(dataset, epochs=100, callbacks=[lr_schedule], verbose=1)\n"
   ]
  },
  {
   "cell_type": "code",
   "execution_count": 11,
   "id": "42b19cc5-e441-4b80-876c-cae66e584aa3",
   "metadata": {},
   "outputs": [
    {
     "data": {
      "text/plain": [
       "(1e-06, 0.01, 2.5, 11.0)"
      ]
     },
     "execution_count": 11,
     "metadata": {},
     "output_type": "execute_result"
    },
    {
     "data": {
      "image/png": "[encoded data removed]",
      "text/plain": [
       "<Figure size 432x288 with 1 Axes>"
      ]
     },
     "metadata": {
      "needs_background": "light"
     },
     "output_type": "display_data"
    }
   ],
   "source": [
    "lrs = 1e-8 * (10 ** (np.arange(100) / 20))\n",
    "plt.semilogx(lrs, history.history[\"loss\"])\n",
    "plt.axis([1e-6, 1e-2, 2.5, 11])"
   ]
  },
  {
   "cell_type": "code",
   "execution_count": 53,
   "id": "063e5f23-2e60-4ed7-9e63-5d1c58fc05a9",
   "metadata": {
    "collapsed": true,
    "jupyter": {
     "outputs_hidden": true
    },
    "tags": []
   },
   "outputs": [
    {
     "name": "stdout",
     "output_type": "stream",
     "text": [
      "Epoch 1/100\n",
      "24/24 [==============================] - 0s 8ms/step - loss: 10.8615\n",
      "Epoch 2/100\n",
      "24/24 [==============================] - 0s 8ms/step - loss: 3.9644\n",
      "Epoch 3/100\n",
      "24/24 [==============================] - 0s 7ms/step - loss: 3.4989\n",
      "Epoch 4/100\n",
      "24/24 [==============================] - 0s 7ms/step - loss: 3.4944\n",
      "Epoch 5/100\n",
      "24/24 [==============================] - 0s 8ms/step - loss: 3.5041\n",
      "Epoch 6/100\n",
      "24/24 [==============================] - 0s 7ms/step - loss: 3.5169\n",
      "Epoch 7/100\n",
      "24/24 [==============================] - 0s 7ms/step - loss: 3.2138\n",
      "Epoch 8/100\n",
      "24/24 [==============================] - 0s 7ms/step - loss: 3.3859\n",
      "Epoch 9/100\n",
      "24/24 [==============================] - 0s 6ms/step - loss: 3.3095\n",
      "Epoch 10/100\n",
      "24/24 [==============================] - 0s 6ms/step - loss: 3.1789\n",
      "Epoch 11/100\n",
      "24/24 [==============================] - 0s 6ms/step - loss: 3.4851\n",
      "Epoch 12/100\n",
      "24/24 [==============================] - 0s 9ms/step - loss: 3.2709\n",
      "Epoch 13/100\n",
      "24/24 [==============================] - 0s 8ms/step - loss: 3.2169\n",
      "Epoch 14/100\n",
      "24/24 [==============================] - 0s 7ms/step - loss: 3.2404\n",
      "Epoch 15/100\n",
      "24/24 [==============================] - 0s 7ms/step - loss: 3.1251\n",
      "Epoch 16/100\n",
      "24/24 [==============================] - 0s 6ms/step - loss: 3.1837\n",
      "Epoch 17/100\n",
      "24/24 [==============================] - 0s 7ms/step - loss: 3.0896\n",
      "Epoch 18/100\n",
      "24/24 [==============================] - 0s 7ms/step - loss: 3.0937\n",
      "Epoch 19/100\n",
      "24/24 [==============================] - 0s 7ms/step - loss: 3.4930\n",
      "Epoch 20/100\n",
      "24/24 [==============================] - 0s 9ms/step - loss: 3.0712\n",
      "Epoch 21/100\n",
      "24/24 [==============================] - 0s 7ms/step - loss: 3.3457\n",
      "Epoch 22/100\n",
      "24/24 [==============================] - 0s 7ms/step - loss: 3.0618\n",
      "Epoch 23/100\n",
      "24/24 [==============================] - 0s 8ms/step - loss: 3.0926\n",
      "Epoch 24/100\n",
      "24/24 [==============================] - 0s 7ms/step - loss: 2.9670\n",
      "Epoch 25/100\n",
      "24/24 [==============================] - 0s 8ms/step - loss: 3.2108\n",
      "Epoch 26/100\n",
      "24/24 [==============================] - 0s 10ms/step - loss: 3.1520\n",
      "Epoch 27/100\n",
      "24/24 [==============================] - 0s 8ms/step - loss: 3.0161\n",
      "Epoch 28/100\n",
      "24/24 [==============================] - 0s 8ms/step - loss: 3.0394\n",
      "Epoch 29/100\n",
      "24/24 [==============================] - 0s 9ms/step - loss: 2.9672\n",
      "Epoch 30/100\n",
      "24/24 [==============================] - 0s 7ms/step - loss: 3.0429\n",
      "Epoch 31/100\n",
      "24/24 [==============================] - 0s 8ms/step - loss: 3.4227\n",
      "Epoch 32/100\n",
      "24/24 [==============================] - 0s 9ms/step - loss: 3.3806\n",
      "Epoch 33/100\n",
      "24/24 [==============================] - 0s 8ms/step - loss: 3.0362\n",
      "Epoch 34/100\n",
      "24/24 [==============================] - 0s 8ms/step - loss: 3.0436\n",
      "Epoch 35/100\n",
      "24/24 [==============================] - 0s 7ms/step - loss: 3.0808\n",
      "Epoch 36/100\n",
      "24/24 [==============================] - 0s 9ms/step - loss: 3.3735\n",
      "Epoch 37/100\n",
      "24/24 [==============================] - 0s 7ms/step - loss: 2.9296\n",
      "Epoch 38/100\n",
      "24/24 [==============================] - 0s 9ms/step - loss: 2.9752\n",
      "Epoch 39/100\n",
      "24/24 [==============================] - 0s 7ms/step - loss: 3.4623\n",
      "Epoch 40/100\n",
      "24/24 [==============================] - 0s 6ms/step - loss: 3.4867\n",
      "Epoch 41/100\n",
      "24/24 [==============================] - 0s 6ms/step - loss: 3.0615\n",
      "Epoch 42/100\n",
      "24/24 [==============================] - 0s 7ms/step - loss: 3.0235\n",
      "Epoch 43/100\n",
      "24/24 [==============================] - 0s 6ms/step - loss: 3.0169\n",
      "Epoch 44/100\n",
      "24/24 [==============================] - 0s 12ms/step - loss: 3.1959\n",
      "Epoch 45/100\n",
      "24/24 [==============================] - 0s 11ms/step - loss: 2.9874\n",
      "Epoch 46/100\n",
      "24/24 [==============================] - 0s 10ms/step - loss: 2.9175\n",
      "Epoch 47/100\n",
      "24/24 [==============================] - 0s 8ms/step - loss: 2.9675\n",
      "Epoch 48/100\n",
      "24/24 [==============================] - 0s 7ms/step - loss: 3.0215\n",
      "Epoch 49/100\n",
      "24/24 [==============================] - 1s 17ms/step - loss: 3.0585\n",
      "Epoch 50/100\n",
      "24/24 [==============================] - 0s 7ms/step - loss: 3.0375\n",
      "Epoch 51/100\n",
      "24/24 [==============================] - 0s 6ms/step - loss: 2.9923\n",
      "Epoch 52/100\n",
      "24/24 [==============================] - 0s 7ms/step - loss: 2.9404\n",
      "Epoch 53/100\n",
      "24/24 [==============================] - 0s 7ms/step - loss: 2.9467\n",
      "Epoch 54/100\n",
      "24/24 [==============================] - 0s 8ms/step - loss: 3.0013\n",
      "Epoch 55/100\n",
      "24/24 [==============================] - 0s 7ms/step - loss: 3.0384\n",
      "Epoch 56/100\n",
      "24/24 [==============================] - 0s 7ms/step - loss: 2.8924\n",
      "Epoch 57/100\n",
      "24/24 [==============================] - 0s 6ms/step - loss: 2.9050\n",
      "Epoch 58/100\n",
      "24/24 [==============================] - 0s 6ms/step - loss: 3.0305\n",
      "Epoch 59/100\n",
      "24/24 [==============================] - 0s 6ms/step - loss: 3.0910\n",
      "Epoch 60/100\n",
      "24/24 [==============================] - 0s 6ms/step - loss: 3.2736\n",
      "Epoch 61/100\n",
      "24/24 [==============================] - 0s 8ms/step - loss: 2.9143\n",
      "Epoch 62/100\n",
      "24/24 [==============================] - 0s 8ms/step - loss: 2.8439\n",
      "Epoch 63/100\n",
      "24/24 [==============================] - 0s 7ms/step - loss: 2.9802\n",
      "Epoch 64/100\n",
      "24/24 [==============================] - 0s 6ms/step - loss: 2.9099\n",
      "Epoch 65/100\n",
      "24/24 [==============================] - 0s 9ms/step - loss: 2.9283\n",
      "Epoch 66/100\n",
      "24/24 [==============================] - 0s 6ms/step - loss: 2.8354\n",
      "Epoch 67/100\n",
      "24/24 [==============================] - 0s 8ms/step - loss: 2.9467\n",
      "Epoch 68/100\n",
      "24/24 [==============================] - 0s 13ms/step - loss: 3.1599\n",
      "Epoch 69/100\n",
      "24/24 [==============================] - 0s 9ms/step - loss: 3.2138\n",
      "Epoch 70/100\n",
      "24/24 [==============================] - 0s 13ms/step - loss: 2.9676\n",
      "Epoch 71/100\n",
      "24/24 [==============================] - 0s 10ms/step - loss: 3.0310\n",
      "Epoch 72/100\n",
      "24/24 [==============================] - 0s 7ms/step - loss: 3.0414\n",
      "Epoch 73/100\n",
      "24/24 [==============================] - 0s 7ms/step - loss: 2.9246\n",
      "Epoch 74/100\n",
      "24/24 [==============================] - 0s 7ms/step - loss: 2.9681\n",
      "Epoch 75/100\n",
      "24/24 [==============================] - 0s 6ms/step - loss: 2.8810\n",
      "Epoch 76/100\n",
      "24/24 [==============================] - 0s 6ms/step - loss: 3.0890\n",
      "Epoch 77/100\n",
      "24/24 [==============================] - 0s 8ms/step - loss: 2.8347\n",
      "Epoch 78/100\n",
      "24/24 [==============================] - 0s 6ms/step - loss: 2.9180\n",
      "Epoch 79/100\n",
      "24/24 [==============================] - 0s 6ms/step - loss: 3.1131\n",
      "Epoch 80/100\n",
      "24/24 [==============================] - 0s 8ms/step - loss: 3.0434\n",
      "Epoch 81/100\n",
      "24/24 [==============================] - 0s 7ms/step - loss: 2.9017\n",
      "Epoch 82/100\n",
      "24/24 [==============================] - 0s 7ms/step - loss: 3.0196\n",
      "Epoch 83/100\n",
      "24/24 [==============================] - 0s 7ms/step - loss: 2.9568\n",
      "Epoch 84/100\n",
      "24/24 [==============================] - 0s 6ms/step - loss: 2.8273\n",
      "Epoch 85/100\n",
      "24/24 [==============================] - 0s 8ms/step - loss: 2.8452\n",
      "Epoch 86/100\n",
      "24/24 [==============================] - 0s 6ms/step - loss: 2.9359\n",
      "Epoch 87/100\n",
      "24/24 [==============================] - 0s 10ms/step - loss: 2.9762\n",
      "Epoch 88/100\n",
      "24/24 [==============================] - 0s 7ms/step - loss: 2.8097\n",
      "Epoch 89/100\n",
      "24/24 [==============================] - 0s 8ms/step - loss: 2.9639\n",
      "Epoch 90/100\n",
      "24/24 [==============================] - 0s 9ms/step - loss: 3.0046\n",
      "Epoch 91/100\n",
      "24/24 [==============================] - 0s 8ms/step - loss: 3.2631\n",
      "Epoch 92/100\n",
      "24/24 [==============================] - 0s 6ms/step - loss: 3.4352\n",
      "Epoch 93/100\n",
      "24/24 [==============================] - 0s 8ms/step - loss: 2.8016\n",
      "Epoch 94/100\n",
      "24/24 [==============================] - 0s 6ms/step - loss: 3.0063\n",
      "Epoch 95/100\n",
      "24/24 [==============================] - 0s 7ms/step - loss: 3.0230\n",
      "Epoch 96/100\n",
      "24/24 [==============================] - 0s 7ms/step - loss: 3.3846\n",
      "Epoch 97/100\n",
      "24/24 [==============================] - 0s 9ms/step - loss: 2.8896\n",
      "Epoch 98/100\n",
      "24/24 [==============================] - 0s 9ms/step - loss: 2.8799\n",
      "Epoch 99/100\n",
      "24/24 [==============================] - 0s 13ms/step - loss: 2.9030\n",
      "Epoch 100/100\n",
      "24/24 [==============================] - 0s 9ms/step - loss: 2.9368\n"
     ]
    }
   ],
   "source": [
    "dataset = windowed_dataset(x_train, window_size, batch_size, shuffle_buffer_size)\n",
    "\n",
    "\n",
    "model = tf.keras.models.Sequential([\n",
    "    tf.keras.layers.Dense(40,input_shape=[window_size], activation=\"relu\"),\n",
    "    tf.keras.layers.Dense(10, activation=\"relu\"), \n",
    "    tf.keras.layers.Dense(1)\n",
    "])\n",
    "\n",
    "model.compile(loss=\"mae\", optimizer=tf.keras.optimizers.SGD(lr=9e-4, momentum=0.9)) #loss = \"mse\"\n",
    "history = model.fit(dataset, epochs=100,  verbose=1)"
   ]
  },
  {
   "cell_type": "code",
   "execution_count": 54,
   "id": "cad1b035-afac-48f4-904f-663975408572",
   "metadata": {},
   "outputs": [
    {
     "data": {
      "image/png": "[encoded data removed]",
      "text/plain": [
       "<Figure size 432x288 with 1 Axes>"
      ]
     },
     "metadata": {
      "needs_background": "light"
     },
     "output_type": "display_data"
    }
   ],
   "source": [
    "loss = history.history['loss']\n",
    "epochs = range(len(loss))\n",
    "plt.plot(epochs, loss, 'b', label='Training Loss')\n",
    "plt.show()"
   ]
  },
  {
   "cell_type": "code",
   "execution_count": 55,
   "id": "81a04bf0-2d00-4635-a18a-ede06b2d8636",
   "metadata": {},
   "outputs": [
    {
     "data": {
      "image/png": "[encoded data removed]",
      "text/plain": [
       "<Figure size 720x432 with 1 Axes>"
      ]
     },
     "metadata": {
      "needs_background": "light"
     },
     "output_type": "display_data"
    }
   ],
   "source": [
    "forecast = []\n",
    "for time in range(len(series) - window_size):\n",
    "  forecast.append(model.predict(series[time:time + window_size][np.newaxis]))\n",
    "\n",
    "forecast = forecast[split_time-window_size:]\n",
    "results = np.array(forecast)[:, 0, 0]\n",
    "\n",
    "\n",
    "plt.figure(figsize=(10, 6))\n",
    "\n",
    "plot_series(time_valid, x_valid)\n",
    "plot_series(time_valid, results)"
   ]
  },
  {
   "cell_type": "code",
   "execution_count": 56,
   "id": "553576c2-f7d3-495f-95dc-b3d8ea624b5b",
   "metadata": {},
   "outputs": [
    {
     "data": {
      "text/plain": [
       "2.961753"
      ]
     },
     "execution_count": 56,
     "metadata": {},
     "output_type": "execute_result"
    }
   ],
   "source": [
    "tf.keras.metrics.mean_absolute_error(x_valid, results).numpy()\n",
    "# EXPECTED OUTPUT"
   ]
  },
  {
   "cell_type": "code",
   "execution_count": 52,
   "id": "e6ca03e1-88d1-42c6-b857-5a53e379599c",
   "metadata": {},
   "outputs": [
    {
     "data": {
      "text/plain": [
       "3.0019283"
      ]
     },
     "execution_count": 52,
     "metadata": {},
     "output_type": "execute_result"
    }
   ],
   "source": [
    "tf.keras.metrics.mean_absolute_error(x_valid, results).numpy()\n",
    "# EXPECTED OUTPUT"
   ]
  },
  {
   "cell_type": "code",
   "execution_count": 30,
   "id": "1f47b9ae-8d42-4cec-880a-9b0c8463d755",
   "metadata": {},
   "outputs": [
    {
     "data": {
      "text/plain": [
       "3.0217087"
      ]
     },
     "execution_count": 30,
     "metadata": {},
     "output_type": "execute_result"
    }
   ],
   "source": [
    "tf.keras.metrics.mean_absolute_error(x_valid, results).numpy()\n",
    "# EXPECTED OUTPUT"
   ]
  },
  {
   "cell_type": "code",
   "execution_count": 26,
   "id": "3c7900c1-96ca-4097-b36e-d0e507df2283",
   "metadata": {},
   "outputs": [
    {
     "data": {
      "text/plain": [
       "3.040995"
      ]
     },
     "execution_count": 26,
     "metadata": {},
     "output_type": "execute_result"
    }
   ],
   "source": [
    "tf.keras.metrics.mean_absolute_error(x_valid, results).numpy()\n",
    "# EXPECTED OUTPUT"
   ]
  },
  {
   "cell_type": "code",
   "execution_count": 22,
   "id": "e57c2b08-13ec-40a3-8332-88e288903869",
   "metadata": {},
   "outputs": [
    {
     "data": {
      "text/plain": [
       "3.061861"
      ]
     },
     "execution_count": 22,
     "metadata": {},
     "output_type": "execute_result"
    }
   ],
   "source": [
    "tf.keras.metrics.mean_absolute_error(x_valid, results).numpy()\n",
    "# EXPECTED OUTPUT"
   ]
  },
  {
   "cell_type": "code",
   "execution_count": 18,
   "id": "6efc47a1-3ab1-4d3f-83b3-f5d4850a6052",
   "metadata": {},
   "outputs": [
    {
     "data": {
      "text/plain": [
       "3.0682712"
      ]
     },
     "execution_count": 18,
     "metadata": {},
     "output_type": "execute_result"
    }
   ],
   "source": [
    "tf.keras.metrics.mean_absolute_error(x_valid, results).numpy()\n",
    "# EXPECTED OUTPUT\n",
    "# A Value less than 3"
   ]
  },
  {
   "cell_type": "code",
   "execution_count": null,
   "id": "fc2d3141-5dd1-488d-8b30-9209cf7a74e4",
   "metadata": {},
   "outputs": [],
   "source": []
  }
 ],
 "metadata": {
  "kernelspec": {
   "display_name": "Python 3",
   "language": "python",
   "name": "python3"
  },
  "language_info": {
   "codemirror_mode": {
    "name": "ipython",
    "version": 3
   },
   "file_extension": ".py",
   "mimetype": "text/x-python",
   "name": "python",
   "nbconvert_exporter": "python",
   "pygments_lexer": "ipython3",
   "version": "3.8.5"
  }
 },
 "nbformat": 4,
 "nbformat_minor": 5
}
