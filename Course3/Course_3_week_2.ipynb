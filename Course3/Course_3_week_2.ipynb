{
 "cells": [
  {
   "cell_type": "code",
   "execution_count": 2,
   "id": "8130efe7-59f1-4e1d-81be-90f91fc053ce",
   "metadata": {},
   "outputs": [
    {
     "name": "stdout",
     "output_type": "stream",
     "text": [
      "--2021-05-18 04:29:46--  https://storage.googleapis.com/laurencemoroney-blog.appspot.com/bbc-text.csv\n",
      "Resolving storage.googleapis.com (storage.googleapis.com)... 216.58.223.208, 216.58.223.240, 2c0f:fb50:4003:802::2010, ...\n",
      "Connecting to storage.googleapis.com (storage.googleapis.com)|216.58.223.208|:443... connected.\n",
      "HTTP request sent, awaiting response... 200 OK\n",
      "Length: 5057493 (4.8M) [application/octet-stream]\n",
      "Saving to: ‘bbc-text.csv’\n",
      "\n",
      "bbc-text.csv        100%[===================>]   4.82M  1.56MB/s    in 3.1s    \n",
      "\n",
      "2021-05-18 04:29:52 (1.56 MB/s) - ‘bbc-text.csv’ saved [5057493/5057493]\n",
      "\n"
     ]
    }
   ],
   "source": [
    "import csv\n",
    "import tensorflow as tf\n",
    "import numpy as np\n",
    "from tensorflow.keras.preprocessing.text import Tokenizer\n",
    "from tensorflow.keras.preprocessing.sequence import pad_sequences\n",
    "\n",
    "!wget --no-check-certificate \\\n",
    "    https://storage.googleapis.com/laurencemoroney-blog.appspot.com/bbc-text.csv \\\n",
    "    -O bbc-text.csv"
   ]
  },
  {
   "cell_type": "code",
   "execution_count": 3,
   "id": "576f4699-a656-4110-9310-ab7840f68241",
   "metadata": {},
   "outputs": [],
   "source": [
    "vocab_size = 1000\n",
    "embedding_dim = 16\n",
    "max_length = 120\n",
    "trunc_type='post'\n",
    "padding_type='post'\n",
    "oov_tok = \"<OOV>\"\n",
    "training_portion = .8"
   ]
  },
  {
   "cell_type": "code",
   "execution_count": 12,
   "id": "7df0783a-1c67-4600-9510-487045b97f88",
   "metadata": {},
   "outputs": [
    {
     "name": "stdout",
     "output_type": "stream",
     "text": [
      "153\n"
     ]
    }
   ],
   "source": [
    "sentences = []\n",
    "labels = []\n",
    "stopwords = [ \"a\", \"about\", \"above\", \"after\", \"again\", \"against\", \"all\", \"am\", \"an\", \"and\", \"any\", \"are\", \"as\", \"at\", \"be\", \"because\", \"been\", \"before\", \"being\", \"below\", \"between\", \"both\", \"but\", \"by\", \"could\", \"did\", \"do\", \"does\", \"doing\", \"down\", \"during\", \"each\", \"few\", \"for\", \"from\", \"further\", \"had\", \"has\", \"have\", \"having\", \"he\", \"he'd\", \"he'll\", \"he's\", \"her\", \"here\", \"here's\", \"hers\", \"herself\", \"him\", \"himself\", \"his\", \"how\", \"how's\", \"i\", \"i'd\", \"i'll\", \"i'm\", \"i've\", \"if\", \"in\", \"into\", \"is\", \"it\", \"it's\", \"its\", \"itself\", \"let's\", \"me\", \"more\", \"most\", \"my\", \"myself\", \"nor\", \"of\", \"on\", \"once\", \"only\", \"or\", \"other\", \"ought\", \"our\", \"ours\", \"ourselves\", \"out\", \"over\", \"own\", \"same\", \"she\", \"she'd\", \"she'll\", \"she's\", \"should\", \"so\", \"some\", \"such\", \"than\", \"that\", \"that's\", \"the\", \"their\", \"theirs\", \"them\", \"themselves\", \"then\", \"there\", \"there's\", \"these\", \"they\", \"they'd\", \"they'll\", \"they're\", \"they've\", \"this\", \"those\", \"through\", \"to\", \"too\", \"under\", \"until\", \"up\", \"very\", \"was\", \"we\", \"we'd\", \"we'll\", \"we're\", \"we've\", \"were\", \"what\", \"what's\", \"when\", \"when's\", \"where\", \"where's\", \"which\", \"while\", \"who\", \"who's\", \"whom\", \"why\", \"why's\", \"with\", \"would\", \"you\", \"you'd\", \"you'll\", \"you're\", \"you've\", \"your\", \"yours\", \"yourself\", \"yourselves\" ]\n",
    "print(len(stopwords))"
   ]
  },
  {
   "cell_type": "code",
   "execution_count": 13,
   "id": "c49df288-1181-446b-9114-71c56c7a219f",
   "metadata": {},
   "outputs": [
    {
     "name": "stdout",
     "output_type": "stream",
     "text": [
      "2225\n",
      "2225\n",
      "tv future hands viewers home theatre systems plasma high-definition tvs digital video recorders moving living room way people watch tv will radically different five years time. according expert panel gathered annual consumer electronics show las vegas discuss new technologies will impact one favourite pastimes. us leading trend programmes content will delivered viewers via home networks cable satellite telecoms companies broadband service providers front rooms portable devices. one talked-about technologies ces digital personal video recorders (dvr pvr). set-top boxes like us s tivo uk s sky+ system allow people record store play pause forward wind tv programmes want. essentially technology allows much personalised tv. also built-in high-definition tv sets big business japan us slower take off europe lack high-definition programming. not can people forward wind adverts can also forget abiding network channel schedules putting together a-la-carte entertainment. us networks cable satellite companies worried means terms advertising revenues well brand identity viewer loyalty channels. although us leads technology moment also concern raised europe particularly growing uptake services like sky+. happens today will see nine months years time uk adam hume bbc broadcast s futurologist told bbc news website. likes bbc no issues lost advertising revenue yet. pressing issue moment commercial uk broadcasters brand loyalty important everyone. will talking content brands rather network brands said tim hanlon brand communications firm starcom mediavest. reality broadband connections anybody can producer content. added: challenge now hard promote programme much choice. means said stacey jolna senior vice president tv guide tv group way people find content want watch simplified tv viewers. means networks us terms channels take leaf google s book search engine future instead scheduler help people find want watch. kind channel model might work younger ipod generation used taking control gadgets play them. might not suit everyone panel recognised. older generations comfortable familiar schedules channel brands know getting. perhaps not want much choice put hands mr hanlon suggested. end kids just diapers pushing buttons already - everything possible available said mr hanlon. ultimately consumer will tell market want. 50 000 new gadgets technologies showcased ces many enhancing tv-watching experience. high-definition tv sets everywhere many new models lcd (liquid crystal display) tvs launched dvr capability built instead external boxes. one example launched show humax s 26-inch lcd tv 80-hour tivo dvr dvd recorder. one us s biggest satellite tv companies directtv even launched branded dvr show 100-hours recording capability instant replay search function. set can pause rewind tv 90 hours. microsoft chief bill gates announced pre-show keynote speech partnership tivo called tivotogo means people can play recorded programmes windows pcs mobile devices. reflect increasing trend freeing multimedia people can watch want want.\n"
     ]
    }
   ],
   "source": [
    "with open(\"bbc-text.csv\", 'r') as csvfile:\n",
    "  reader = csv.reader(csvfile, delimiter=',')\n",
    "  next(reader)\n",
    "  \n",
    "  for row in reader:\n",
    "    labels.append(row[0])\n",
    "    sentence = row[1]\n",
    "    for word in stopwords:\n",
    "        token = \" \" + word + \" \"\n",
    "        sentence = sentence.replace(token, \" \")\n",
    "        sentence = sentence.replace(\"  \", \" \")\n",
    "    sentences.append(sentence)\n",
    "\n",
    "print(len(labels))\n",
    "print(len(sentences))\n",
    "print(sentences[0])"
   ]
  },
  {
   "cell_type": "code",
   "execution_count": 14,
   "id": "0f2a8927-b3d2-455c-8ad9-65aaaef49879",
   "metadata": {},
   "outputs": [
    {
     "name": "stdout",
     "output_type": "stream",
     "text": [
      "1780\n",
      "1780\n",
      "1780\n",
      "445\n",
      "445\n"
     ]
    }
   ],
   "source": [
    "train_size = int(len(sentences) * training_portion)\n",
    "\n",
    "train_sentences = sentences[:train_size]\n",
    "train_labels = labels[:train_size]\n",
    "\n",
    "validation_sentences = sentences[train_size:]\n",
    "validation_labels = labels[train_size:]\n",
    "\n",
    "print(train_size)\n",
    "print(len(train_sentences))\n",
    "print(len(train_labels))\n",
    "print(len(validation_sentences))\n",
    "print(len(validation_labels))"
   ]
  },
  {
   "cell_type": "code",
   "execution_count": 15,
   "id": "b29ccdb3-4b7f-4d58-be97-618f3000affb",
   "metadata": {},
   "outputs": [
    {
     "name": "stdout",
     "output_type": "stream",
     "text": [
      "449\n",
      "120\n",
      "200\n",
      "120\n",
      "192\n",
      "120\n"
     ]
    }
   ],
   "source": [
    "tokenizer = Tokenizer(num_words = vocab_size, oov_token=oov_tok)\n",
    "tokenizer.fit_on_texts(train_sentences)\n",
    "word_index = tokenizer.word_index\n",
    "\n",
    "train_sequences = tokenizer.texts_to_sequences(train_sentences)\n",
    "train_padded = pad_sequences(train_sequences, padding=padding_type, maxlen=max_length)\n",
    "\n",
    "print(len(train_sequences[0]))\n",
    "print(len(train_padded[0]))\n",
    "\n",
    "print(len(train_sequences[1]))\n",
    "print(len(train_padded[1]))\n",
    "\n",
    "print(len(train_sequences[10]))\n",
    "print(len(train_padded[10]))"
   ]
  },
  {
   "cell_type": "code",
   "execution_count": 16,
   "id": "9cbdce17-b42c-453b-9adf-ed0130921de6",
   "metadata": {},
   "outputs": [
    {
     "name": "stdout",
     "output_type": "stream",
     "text": [
      "445\n",
      "(445, 120)\n"
     ]
    }
   ],
   "source": [
    "validation_sequences = tokenizer.texts_to_sequences(validation_sentences)\n",
    "validation_padded = pad_sequences(validation_sequences, padding=padding_type, maxlen=max_length)\n",
    "\n",
    "print(len(validation_sequences))\n",
    "print(validation_padded.shape)"
   ]
  },
  {
   "cell_type": "code",
   "execution_count": 17,
   "id": "b68d963a-1bfc-482f-986d-910623b09fe7",
   "metadata": {},
   "outputs": [
    {
     "name": "stdout",
     "output_type": "stream",
     "text": [
      "[4]\n",
      "[2]\n",
      "[1]\n",
      "(1780, 1)\n",
      "[5]\n",
      "[4]\n",
      "[3]\n",
      "(445, 1)\n"
     ]
    }
   ],
   "source": [
    " label_tokenizer = Tokenizer()\n",
    "label_tokenizer.fit_on_texts(labels)\n",
    "\n",
    "training_label_seq = np.array(label_tokenizer.texts_to_sequences(train_labels))\n",
    "validation_label_seq = np.array(label_tokenizer.texts_to_sequences(validation_labels))\n",
    "\n",
    "train_padded = np.array(train_padded)\n",
    "validation_padded = np.array(validation_padded)\n",
    "training_label_seq = np.array(training_label_seq)\n",
    "validation_label_seq = np.array(validation_label_seq)\n",
    "\n",
    "print(training_label_seq[0])\n",
    "print(training_label_seq[1])\n",
    "print(training_label_seq[2])\n",
    "print(training_label_seq.shape)\n",
    "\n",
    "print(validation_label_seq[0])\n",
    "print(validation_label_seq[1])\n",
    "print(validation_label_seq[2])\n",
    "print(validation_label_seq.shape)"
   ]
  },
  {
   "cell_type": "code",
   "execution_count": 18,
   "id": "4860e18d-2bad-4c80-88b2-21f4e8317618",
   "metadata": {},
   "outputs": [
    {
     "name": "stdout",
     "output_type": "stream",
     "text": [
      "Model: \"sequential\"\n",
      "_________________________________________________________________\n",
      "Layer (type)                 Output Shape              Param #   \n",
      "=================================================================\n",
      "embedding (Embedding)        (None, 120, 16)           16000     \n",
      "_________________________________________________________________\n",
      "global_average_pooling1d (Gl (None, 16)                0         \n",
      "_________________________________________________________________\n",
      "dense (Dense)                (None, 24)                408       \n",
      "_________________________________________________________________\n",
      "dense_1 (Dense)              (None, 6)                 150       \n",
      "=================================================================\n",
      "Total params: 16,558\n",
      "Trainable params: 16,558\n",
      "Non-trainable params: 0\n",
      "_________________________________________________________________\n"
     ]
    }
   ],
   "source": [
    "model = tf.keras.Sequential([\n",
    "    tf.keras.layers.Embedding(vocab_size, embedding_dim, input_length=max_length),\n",
    "    tf.keras.layers.GlobalAveragePooling1D(),\n",
    "    tf.keras.layers.Dense(24, activation='relu'),\n",
    "    tf.keras.layers.Dense(6, activation='softmax')\n",
    "])\n",
    "model.compile(loss='sparse_categorical_crossentropy',optimizer='adam',metrics=['accuracy'])\n",
    "model.summary()"
   ]
  },
  {
   "cell_type": "code",
   "execution_count": 19,
   "id": "a1e00f2e-1c43-488f-8514-a8293c247094",
   "metadata": {},
   "outputs": [
    {
     "name": "stdout",
     "output_type": "stream",
     "text": [
      "Epoch 1/30\n",
      "56/56 - 2s - loss: 1.7603 - accuracy: 0.2326 - val_loss: 1.7188 - val_accuracy: 0.2427\n",
      "Epoch 2/30\n",
      "56/56 - 0s - loss: 1.6703 - accuracy: 0.3287 - val_loss: 1.6211 - val_accuracy: 0.4584\n",
      "Epoch 3/30\n",
      "56/56 - 0s - loss: 1.5739 - accuracy: 0.4449 - val_loss: 1.5267 - val_accuracy: 0.4584\n",
      "Epoch 4/30\n",
      "56/56 - 0s - loss: 1.4591 - accuracy: 0.4899 - val_loss: 1.3984 - val_accuracy: 0.5348\n",
      "Epoch 5/30\n",
      "56/56 - 0s - loss: 1.2946 - accuracy: 0.6713 - val_loss: 1.2193 - val_accuracy: 0.7640\n",
      "Epoch 6/30\n",
      "56/56 - 0s - loss: 1.0782 - accuracy: 0.8539 - val_loss: 0.9966 - val_accuracy: 0.8742\n",
      "Epoch 7/30\n",
      "56/56 - 0s - loss: 0.8327 - accuracy: 0.9146 - val_loss: 0.7767 - val_accuracy: 0.8921\n",
      "Epoch 8/30\n",
      "56/56 - 0s - loss: 0.6254 - accuracy: 0.9348 - val_loss: 0.6101 - val_accuracy: 0.9056\n",
      "Epoch 9/30\n",
      "56/56 - 0s - loss: 0.4771 - accuracy: 0.9483 - val_loss: 0.4944 - val_accuracy: 0.9169\n",
      "Epoch 10/30\n",
      "56/56 - 0s - loss: 0.3742 - accuracy: 0.9551 - val_loss: 0.4191 - val_accuracy: 0.9124\n",
      "Epoch 11/30\n",
      "56/56 - 0s - loss: 0.3039 - accuracy: 0.9601 - val_loss: 0.3619 - val_accuracy: 0.9213\n",
      "Epoch 12/30\n",
      "56/56 - 0s - loss: 0.2534 - accuracy: 0.9652 - val_loss: 0.3206 - val_accuracy: 0.9258\n",
      "Epoch 13/30\n",
      "56/56 - 0s - loss: 0.2155 - accuracy: 0.9685 - val_loss: 0.2931 - val_accuracy: 0.9258\n",
      "Epoch 14/30\n",
      "56/56 - 0s - loss: 0.1854 - accuracy: 0.9725 - val_loss: 0.2690 - val_accuracy: 0.9303\n",
      "Epoch 15/30\n",
      "56/56 - 0s - loss: 0.1622 - accuracy: 0.9747 - val_loss: 0.2509 - val_accuracy: 0.9281\n",
      "Epoch 16/30\n",
      "56/56 - 0s - loss: 0.1427 - accuracy: 0.9764 - val_loss: 0.2403 - val_accuracy: 0.9326\n",
      "Epoch 17/30\n",
      "56/56 - 0s - loss: 0.1262 - accuracy: 0.9787 - val_loss: 0.2266 - val_accuracy: 0.9303\n",
      "Epoch 18/30\n",
      "56/56 - 0s - loss: 0.1122 - accuracy: 0.9831 - val_loss: 0.2202 - val_accuracy: 0.9371\n",
      "Epoch 19/30\n",
      "56/56 - 0s - loss: 0.1008 - accuracy: 0.9854 - val_loss: 0.2121 - val_accuracy: 0.9393\n",
      "Epoch 20/30\n",
      "56/56 - 0s - loss: 0.0901 - accuracy: 0.9871 - val_loss: 0.2056 - val_accuracy: 0.9348\n",
      "Epoch 21/30\n",
      "56/56 - 0s - loss: 0.0820 - accuracy: 0.9888 - val_loss: 0.1992 - val_accuracy: 0.9416\n",
      "Epoch 22/30\n",
      "56/56 - 0s - loss: 0.0737 - accuracy: 0.9910 - val_loss: 0.1947 - val_accuracy: 0.9371\n",
      "Epoch 23/30\n",
      "56/56 - 0s - loss: 0.0660 - accuracy: 0.9933 - val_loss: 0.1893 - val_accuracy: 0.9393\n",
      "Epoch 24/30\n",
      "56/56 - 0s - loss: 0.0598 - accuracy: 0.9955 - val_loss: 0.1891 - val_accuracy: 0.9416\n",
      "Epoch 25/30\n",
      "56/56 - 0s - loss: 0.0545 - accuracy: 0.9978 - val_loss: 0.1842 - val_accuracy: 0.9416\n",
      "Epoch 26/30\n",
      "56/56 - 0s - loss: 0.0494 - accuracy: 0.9978 - val_loss: 0.1803 - val_accuracy: 0.9393\n",
      "Epoch 27/30\n",
      "56/56 - 0s - loss: 0.0448 - accuracy: 0.9978 - val_loss: 0.1788 - val_accuracy: 0.9416\n",
      "Epoch 28/30\n",
      "56/56 - 0s - loss: 0.0406 - accuracy: 0.9989 - val_loss: 0.1775 - val_accuracy: 0.9461\n",
      "Epoch 29/30\n",
      "56/56 - 0s - loss: 0.0374 - accuracy: 0.9989 - val_loss: 0.1774 - val_accuracy: 0.9416\n",
      "Epoch 30/30\n",
      "56/56 - 0s - loss: 0.0339 - accuracy: 0.9989 - val_loss: 0.1761 - val_accuracy: 0.9438\n"
     ]
    }
   ],
   "source": [
    "num_epochs = 30\n",
    "history = model.fit(train_padded, training_label_seq, epochs=num_epochs, validation_data=(validation_padded, validation_label_seq), verbose=2)"
   ]
  },
  {
   "cell_type": "code",
   "execution_count": 20,
   "id": "48d64a36-9b85-42d5-a063-21a0e9ba9157",
   "metadata": {},
   "outputs": [
    {
     "data": {
      "image/png": "[encoded data removed]",
      "text/plain": [
       "<Figure size 432x288 with 1 Axes>"
      ]
     },
     "metadata": {
      "needs_background": "light"
     },
     "output_type": "display_data"
    },
    {
     "data": {
      "image/png": "[encoded data removed]",
      "text/plain": [
       "<Figure size 432x288 with 1 Axes>"
      ]
     },
     "metadata": {
      "needs_background": "light"
     },
     "output_type": "display_data"
    }
   ],
   "source": [
    "import matplotlib.pyplot as plt\n",
    "\n",
    "\n",
    "def plot_graphs(history, string):\n",
    "  plt.plot(history.history[string])\n",
    "  plt.plot(history.history['val_'+string])\n",
    "  plt.xlabel(\"Epochs\")\n",
    "  plt.ylabel(string)\n",
    "  plt.legend([string, 'val_'+string])\n",
    "  plt.show()\n",
    "  \n",
    "plot_graphs(history, \"accuracy\")\n",
    "plot_graphs(history, \"loss\")"
   ]
  },
  {
   "cell_type": "code",
   "execution_count": 21,
   "id": "203b67a1-1902-45a4-89ff-f55a239b0dcc",
   "metadata": {},
   "outputs": [],
   "source": [
    "reverse_word_index = dict([(value, key) for (key, value) in word_index.items()])\n",
    "\n",
    "def decode_sentence(text):\n",
    "    return ' '.join([reverse_word_index.get(i, '?') for i in text])"
   ]
  },
  {
   "cell_type": "code",
   "execution_count": 22,
   "id": "04a9d100-8e7e-4ce3-82b3-aeba0ab54032",
   "metadata": {},
   "outputs": [
    {
     "name": "stdout",
     "output_type": "stream",
     "text": [
      "(1000, 16)\n"
     ]
    }
   ],
   "source": [
    "e = model.layers[0]\n",
    "weights = e.get_weights()[0]\n",
    "print(weights.shape) # shape: (vocab_size, embedding_dim)\n"
   ]
  },
  {
   "cell_type": "code",
   "execution_count": 23,
   "id": "b72d6402-a19c-4a07-9801-eb35570e27aa",
   "metadata": {},
   "outputs": [],
   "source": [
    "# import io\n",
    "\n",
    "# out_v = io.open('vecs.tsv', 'w', encoding='utf-8')\n",
    "# out_m = io.open('meta.tsv', 'w', encoding='utf-8')\n",
    "# for word_num in range(1, vocab_size):\n",
    "#   word = reverse_word_index[word_num]\n",
    "#   embeddings = weights[word_num]\n",
    "#   out_m.write(word + \"\\n\")\n",
    "#   out_v.write('\\t'.join([str(x) for x in embeddings]) + \"\\n\")\n",
    "# out_v.close()\n",
    "# out_m.close()"
   ]
  },
  {
   "cell_type": "code",
   "execution_count": 24,
   "id": "e3929ae7-121e-48e9-84ec-182ff4ba95a6",
   "metadata": {},
   "outputs": [
    {
     "ename": "ModuleNotFoundError",
     "evalue": "No module named 'google.colab'",
     "output_type": "error",
     "traceback": [
      "\u001b[0;31m---------------------------------------------------------------------------\u001b[0m",
      "\u001b[0;31mModuleNotFoundError\u001b[0m                       Traceback (most recent call last)",
      "\u001b[0;32m<ipython-input-24-4ab75b70af1d>\u001b[0m in \u001b[0;36m<module>\u001b[0;34m\u001b[0m\n\u001b[0;32m----> 1\u001b[0;31m \u001b[0;32mfrom\u001b[0m \u001b[0mgoogle\u001b[0m\u001b[0;34m.\u001b[0m\u001b[0mcolab\u001b[0m \u001b[0;32mimport\u001b[0m \u001b[0mfiles\u001b[0m\u001b[0;34m\u001b[0m\u001b[0;34m\u001b[0m\u001b[0m\n\u001b[0m\u001b[1;32m      2\u001b[0m \u001b[0mfiles\u001b[0m\u001b[0;34m.\u001b[0m\u001b[0mdownload\u001b[0m\u001b[0;34m(\u001b[0m\u001b[0;34m'vecs.tsv'\u001b[0m\u001b[0;34m)\u001b[0m\u001b[0;34m\u001b[0m\u001b[0;34m\u001b[0m\u001b[0m\n\u001b[1;32m      3\u001b[0m \u001b[0mfiles\u001b[0m\u001b[0;34m.\u001b[0m\u001b[0mdownload\u001b[0m\u001b[0;34m(\u001b[0m\u001b[0;34m'meta.tsv'\u001b[0m\u001b[0;34m)\u001b[0m\u001b[0;34m\u001b[0m\u001b[0;34m\u001b[0m\u001b[0m\n",
      "\u001b[0;31mModuleNotFoundError\u001b[0m: No module named 'google.colab'"
     ]
    }
   ],
   "source": [
    "# from google.colab import files\n",
    "# files.download('vecs.tsv')\n",
    "# files.download('meta.tsv')"
   ]
  },
  {
   "cell_type": "code",
   "execution_count": null,
   "id": "4463d1d0-5e97-4dc6-8faa-c90b15a5d881",
   "metadata": {},
   "outputs": [],
   "source": []
  }
 ],
 "metadata": {
  "kernelspec": {
   "display_name": "Python 3",
   "language": "python",
   "name": "python3"
  },
  "language_info": {
   "codemirror_mode": {
    "name": "ipython",
    "version": 3
   },
   "file_extension": ".py",
   "mimetype": "text/x-python",
   "name": "python",
   "nbconvert_exporter": "python",
   "pygments_lexer": "ipython3",
   "version": "3.8.5"
  }
 },
 "nbformat": 4,
 "nbformat_minor": 5
}
