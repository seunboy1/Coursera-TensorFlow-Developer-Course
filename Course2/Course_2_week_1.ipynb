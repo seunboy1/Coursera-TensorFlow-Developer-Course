{
 "cells": [
  {
   "cell_type": "code",
   "execution_count": 1,
   "id": "1d6902e6-594e-40a4-9dcc-2e77e2c205f9",
   "metadata": {},
   "outputs": [],
   "source": [
    "import os\n",
    "import zipfile\n",
    "import random\n",
    "import shutil\n",
    "from os import getcwd\n",
    "from shutil import copyfile\n",
    "import tensorflow as tf\n",
    "from PIL import UnidentifiedImageError\n",
    "from tensorflow.keras.models import Sequential\n",
    "from tensorflow.keras.optimizers import RMSprop\n",
    "from tensorflow.keras.preprocessing.image import ImageDataGenerator\n",
    "from tensorflow.keras.layers import Conv2D, Dense, MaxPooling2D, Flatten"
   ]
  },
  {
   "cell_type": "code",
   "execution_count": 13,
   "id": "183499b8-ecc0-4e63-b4b6-a09836c7305b",
   "metadata": {},
   "outputs": [
    {
     "name": "stdout",
     "output_type": "stream",
     "text": [
      "--2021-05-10 19:02:30--  https://download.microsoft.com/download/3/E/1/3E1C3F21-ECDB-4869-8368-6DEBA77B919F/kagglecatsanddogs_3367a.zip\n",
      "Resolving download.microsoft.com (download.microsoft.com)... 104.85.0.109, 2a02:26f0:60:895::e59, 2a02:26f0:60:8a3::e59\n",
      "Connecting to download.microsoft.com (download.microsoft.com)|104.85.0.109|:443... connected.\n",
      "HTTP request sent, awaiting response... 200 OK\n",
      "Length: 824894548 (787M) [application/octet-stream]\n",
      "Saving to: ‘cats-and-dogs.zip’\n",
      "\n",
      "cats-and-dogs.zip   100%[===================>] 786.68M  2.03MB/s    in 8m 53s  \n",
      "\n",
      "2021-05-10 19:11:26 (1.48 MB/s) - ‘cats-and-dogs.zip’ saved [824894548/824894548]\n",
      "\n"
     ]
    }
   ],
   "source": [
    "!wget --no-check-certificate \\\n",
    "    \"https://download.microsoft.com/download/3/E/1/3E1C3F21-ECDB-4869-8368-6DEBA77B919F/kagglecatsanddogs_3367a.zip\" \\\n",
    "    -O \"cats-and-dogs.zip\"\n",
    "\n",
    "local_zip = \"cats-and-dogs.zip\"\n",
    "zip_ref = zipfile.ZipFile(local_zip, 'r')\n",
    "zip_ref.extractall('./')\n",
    "zip_ref.close()\n",
    "/home/oluwaseun/.cache/JetBrains/PyCharmCE2021.1/certification/Category2/mymodel.h5"
   ]
  },
  {
   "cell_type": "code",
   "execution_count": 3,
   "id": "af078750-6506-4f41-b00b-dff566fa8598",
   "metadata": {},
   "outputs": [
    {
     "name": "stdout",
     "output_type": "stream",
     "text": [
      "12501\n",
      "12501\n",
      "/home/oluwaseun/Documents/Personal_projects/deeplearning.ai_tensorflow_certification\n"
     ]
    }
   ],
   "source": [
    "print(len(os.listdir('PetImages/Cat/')))\n",
    "print(len(os.listdir('PetImages/Dog/')))\n",
    "print(getcwd())"
   ]
  },
  {
   "cell_type": "code",
   "execution_count": null,
   "id": "df211288-8563-4ab7-811e-d3555c3f2bcb",
   "metadata": {},
   "outputs": [],
   "source": [
    "paths = [\"cats-v-dogs/training\", \"cats-v-dogs/testing\"]\n",
    "for path in paths:\n",
    "    for i in [\"cats\", \"dogs\"]:\n",
    "        os.makedirs(os.path.join(path, i)) "
   ]
  },
  {
   "cell_type": "code",
   "execution_count": null,
   "id": "c646cb2c-7d97-423b-8266-72d83584d1a4",
   "metadata": {},
   "outputs": [],
   "source": [
    "def split_data(SOURCE, TRAINING, TESTING, SPLIT_SIZE):\n",
    "    x = os.listdir(SOURCE)\n",
    "    files = random.sample(x, len(x))\n",
    "    num = int(len(files)*SPLIT_SIZE)\n",
    "    \n",
    "    train = [files[:num], TRAINING ]\n",
    "    test = [files[num:], TESTING]\n",
    "    \n",
    "    for data in [train,test]:\n",
    "        for img in data[0]:\n",
    "            shutil.move(f\"{SOURCE}{img}\",data[1])\n",
    "\n",
    "CAT_SOURCE_DIR = \"PetImages/Cat/\"\n",
    "TRAINING_CATS_DIR = \"cats-v-dogs/training/cats/\"\n",
    "TESTING_CATS_DIR = \"cats-v-dogs/testing/cats/\"\n",
    "DOG_SOURCE_DIR = \"PetImages/Dog/\"\n",
    "TRAINING_DOGS_DIR = \"cats-v-dogs/training/dogs/\"\n",
    "TESTING_DOGS_DIR = \"cats-v-dogs/testing/dogs/\"\n",
    "split_size = .9\n",
    "split_data(CAT_SOURCE_DIR, TRAINING_CATS_DIR, TESTING_CATS_DIR, split_size)\n",
    "split_data(DOG_SOURCE_DIR, TRAINING_DOGS_DIR, TESTING_DOGS_DIR, split_size)"
   ]
  },
  {
   "cell_type": "code",
   "execution_count": 4,
   "id": "a1353703-4ec4-4aea-b4ed-12957afd56e5",
   "metadata": {},
   "outputs": [
    {
     "name": "stdout",
     "output_type": "stream",
     "text": [
      "11250\n",
      "11250\n",
      "1251\n",
      "1251\n"
     ]
    }
   ],
   "source": [
    "print(len(os.listdir('cats-v-dogs/training/cats/')))\n",
    "print(len(os.listdir('cats-v-dogs/training/dogs/')))\n",
    "print(len(os.listdir('cats-v-dogs/testing/cats/')))\n",
    "print(len(os.listdir('cats-v-dogs/testing/dogs/')))"
   ]
  },
  {
   "cell_type": "code",
   "execution_count": 47,
   "id": "02249ea9-12c0-44bf-9ee5-643488865a8d",
   "metadata": {},
   "outputs": [
    {
     "name": "stdout",
     "output_type": "stream",
     "text": [
      "Model: \"sequential_3\"\n",
      "_________________________________________________________________\n",
      "Layer (type)                 Output Shape              Param #   \n",
      "=================================================================\n",
      "conv2d_9 (Conv2D)            (None, 148, 148, 16)      448       \n",
      "_________________________________________________________________\n",
      "max_pooling2d_9 (MaxPooling2 (None, 74, 74, 16)        0         \n",
      "_________________________________________________________________\n",
      "conv2d_10 (Conv2D)           (None, 72, 72, 32)        4640      \n",
      "_________________________________________________________________\n",
      "max_pooling2d_10 (MaxPooling (None, 36, 36, 32)        0         \n",
      "_________________________________________________________________\n",
      "conv2d_11 (Conv2D)           (None, 34, 34, 64)        18496     \n",
      "_________________________________________________________________\n",
      "max_pooling2d_11 (MaxPooling (None, 17, 17, 64)        0         \n",
      "_________________________________________________________________\n",
      "flatten_3 (Flatten)          (None, 18496)             0         \n",
      "_________________________________________________________________\n",
      "dense_6 (Dense)              (None, 128)               2367616   \n",
      "_________________________________________________________________\n",
      "dense_7 (Dense)              (None, 1)                 129       \n",
      "=================================================================\n",
      "Total params: 2,391,329\n",
      "Trainable params: 2,391,329\n",
      "Non-trainable params: 0\n",
      "_________________________________________________________________\n"
     ]
    }
   ],
   "source": [
    "model = tf.keras.models.Sequential([\n",
    "    Conv2D(16, 3, activation=\"relu\", input_shape=(150, 150, 3)),\n",
    "    MaxPooling2D((2, 2)),\n",
    "    Conv2D(32, 3, activation=\"relu\"),\n",
    "    MaxPooling2D((2, 2)),\n",
    "    Conv2D(64, 3, activation=\"relu\"),\n",
    "    MaxPooling2D((2, 2)),\n",
    "    Flatten(),\n",
    "    Dense(128, activation='relu'),\n",
    "    Dense(1, activation=\"sigmoid\")\n",
    "])\n",
    "\n",
    "model.compile(optimizer=RMSprop(lr=0.001), loss='binary_crossentropy', metrics=['acc'])\n",
    "model.summary()"
   ]
  },
  {
   "cell_type": "code",
   "execution_count": 48,
   "id": "b3b8bfca-44f2-4872-8f23-c18295b31f69",
   "metadata": {},
   "outputs": [
    {
     "name": "stdout",
     "output_type": "stream",
     "text": [
      "Found 22497 images belonging to 2 classes.\n",
      "Found 2502 images belonging to 2 classes.\n"
     ]
    }
   ],
   "source": [
    "TRAINING_DIR = \"cats-v-dogs/training\"\n",
    "train_datagen = ImageDataGenerator(\n",
    "    rescale = 1./255,\n",
    "    rotation_range = 40,\n",
    "    width_shift_range=0.2,\n",
    "    height_shift_range=0.2,\n",
    "    shear_range=0.2,\n",
    "    zoom_range=0.2,\n",
    "    fill_mode=\"nearest\",\n",
    "    horizontal_flip=True)\n",
    "\n",
    "# NOTE: YOU MUST USE A BATCH SIZE OF 10 (batch_size=10) FOR THE \n",
    "# TRAIN GENERATOR.\n",
    "train_generator = train_datagen.flow_from_directory(\n",
    "    TRAINING_DIR,\n",
    "    target_size = (150,150),\n",
    "    batch_size =  32,\n",
    "    class_mode = \"binary\"\n",
    "    )\n",
    "\n",
    "VALIDATION_DIR = \"cats-v-dogs/testing\"\n",
    "validation_datagen = ImageDataGenerator(rescale = 1./255)\n",
    "\n",
    "# NOTE: YOU MUST USE A BACTH SIZE OF 10 (batch_size=10) FOR THE \n",
    "# VALIDATION GENERATOR.\n",
    "validation_generator = validation_datagen.flow_from_directory(\n",
    "    VALIDATION_DIR,\n",
    "    target_size = (150,150),\n",
    "    batch_size =  32,\n",
    "    class_mode = \"binary\"\n",
    "    )\n",
    "\n"
   ]
  },
  {
   "cell_type": "code",
   "execution_count": null,
   "id": "c1c8ebfc-86ca-4ddb-8643-742866e0699f",
   "metadata": {
    "tags": []
   },
   "outputs": [],
   "source": [
    "history = model.fit_generator(train_generator,\n",
    "                              epochs=2,\n",
    "                              verbose=1,\n",
    "                              validation_data=validation_generator)"
   ]
  },
  {
   "cell_type": "code",
   "execution_count": 53,
   "id": "4bd269f7-286d-49cb-91d5-fe444548ed7d",
   "metadata": {},
   "outputs": [
    {
     "data": {
      "text/plain": [
       "{'loss': [0.6935679316520691,\n",
       "  0.6935516595840454,\n",
       "  0.6935350894927979,\n",
       "  0.6935165524482727,\n",
       "  0.6934945583343506],\n",
       " 'acc': [0.4936051070690155,\n",
       "  0.49480414390563965,\n",
       "  0.49440446496009827,\n",
       "  0.4972022473812103,\n",
       "  0.49680256843566895],\n",
       " 'lr': [1e-08, 1.1220185e-08, 1.2589254e-08, 1.41253755e-08, 1.5848931e-08]}"
      ]
     },
     "execution_count": 53,
     "metadata": {},
     "output_type": "execute_result"
    }
   ],
   "source": [
    "history.history"
   ]
  },
  {
   "cell_type": "code",
   "execution_count": 37,
   "id": "08ec298e-cc87-46d0-a40e-7a9c06a3325a",
   "metadata": {
    "tags": []
   },
   "outputs": [],
   "source": []
  },
  {
   "cell_type": "code",
   "execution_count": null,
   "id": "92204258-4c53-47f7-893e-2c767935fdbe",
   "metadata": {},
   "outputs": [],
   "source": []
  },
  {
   "cell_type": "code",
   "execution_count": null,
   "id": "7659f49d-d507-41c0-b457-fe79d991e988",
   "metadata": {},
   "outputs": [],
   "source": [
    "# PLOT LOSS AND ACCURACY\n",
    "%matplotlib inline\n",
    "\n",
    "import matplotlib.image  as mpimg\n",
    "import matplotlib.pyplot as plt\n",
    "\n",
    "#-----------------------------------------------------------\n",
    "# Retrieve a list of list results on training and test data\n",
    "# sets for each training epoch\n",
    "#-----------------------------------------------------------\n",
    "acc=history.history['acc']\n",
    "val_acc=history.history['val_acc']\n",
    "loss=history.history['loss']\n",
    "val_loss=history.history['val_loss']\n",
    "\n",
    "epochs=range(len(acc)) # Get number of epochs\n",
    "\n",
    "#------------------------------------------------\n",
    "# Plot training and validation accuracy per epoch\n",
    "#------------------------------------------------\n",
    "plt.plot(epochs, acc, 'r', \"Training Accuracy\")\n",
    "plt.plot(epochs, val_acc, 'b', \"Validation Accuracy\")\n",
    "plt.title('Training and validation accuracy')\n",
    "plt.figure()\n",
    "\n",
    "#------------------------------------------------\n",
    "# Plot training and validation loss per epoch\n",
    "#------------------------------------------------\n",
    "plt.plot(epochs, loss, 'r', \"Training Loss\")\n",
    "plt.plot(epochs, val_loss, 'b', \"Validation Loss\")\n",
    "\n",
    "\n",
    "plt.title('Training and validation loss')\n"
   ]
  }
 ],
 "metadata": {
  "kernelspec": {
   "display_name": "Python 3",
   "language": "python",
   "name": "python3"
  },
  "language_info": {
   "codemirror_mode": {
    "name": "ipython",
    "version": 3
   },
   "file_extension": ".py",
   "mimetype": "text/x-python",
   "name": "python",
   "nbconvert_exporter": "python",
   "pygments_lexer": "ipython3",
   "version": "3.8.5"
  }
 },
 "nbformat": 4,
 "nbformat_minor": 5
}
