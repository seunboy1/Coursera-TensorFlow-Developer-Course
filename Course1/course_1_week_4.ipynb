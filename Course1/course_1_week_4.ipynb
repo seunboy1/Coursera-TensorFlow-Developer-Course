{
 "cells": [
  {
   "cell_type": "code",
   "execution_count": 4,
   "id": "407b3dee-3fb4-45e1-a77d-1bdd194493ce",
   "metadata": {},
   "outputs": [
    {
     "name": "stdout",
     "output_type": "stream",
     "text": [
      "--2021-05-10 06:07:12--  https://storage.googleapis.com/laurencemoroney-blog.appspot.com/happy-or-sad.zip\n",
      "Resolving storage.googleapis.com (storage.googleapis.com)... 216.58.223.240, 216.58.223.208, 2c0f:fb50:4003:802::2010, ...\n",
      "Connecting to storage.googleapis.com (storage.googleapis.com)|216.58.223.240|:443... connected.\n",
      "HTTP request sent, awaiting response... 200 OK\n",
      "Length: 2670333 (2.5M) [application/zip]\n",
      "Saving to: ‘happy-or-sad.zip’\n",
      "\n",
      "happy-or-sad.zip    100%[===================>]   2.55M  1.70MB/s    in 1.5s    \n",
      "\n",
      "2021-05-10 06:07:14 (1.70 MB/s) - ‘happy-or-sad.zip’ saved [2670333/2670333]\n",
      "\n"
     ]
    }
   ],
   "source": [
    "import os\n",
    "import zipfile\n",
    "import tensorflow as tf\n",
    "from os import path, getcwd, chdir\n",
    "from tensorflow.keras.models import Sequential\n",
    "from tensorflow.keras.optimizers import RMSprop\n",
    "from tensorflow.keras.preprocessing.image import ImageDataGenerator\n",
    "from tensorflow.keras.layers import Conv2D, Dense, MaxPooling2D, Flatten\n",
    "\n",
    "!wget --no-check-certificate \\\n",
    "    \"https://storage.googleapis.com/laurencemoroney-blog.appspot.com/happy-or-sad.zip\" \\\n",
    "    -O \"happy-or-sad.zip\"\n",
    "\n",
    "path = \"happy-or-sad.zip\"\n",
    "zip_ref = zipfile.ZipFile(path, 'r')\n",
    "zip_ref.extractall(\"/tmp/h-or-s\")\n",
    "zip_ref.close()"
   ]
  },
  {
   "cell_type": "code",
   "execution_count": 7,
   "id": "eb94a892-0230-46ef-8e87-2d5da3df27e9",
   "metadata": {},
   "outputs": [],
   "source": [
    "def train_happy_sad_model():\n",
    "\n",
    "    DESIRED_ACCURACY = 0.999\n",
    "\n",
    "    class myCallback(tf.keras.callbacks.Callback):\n",
    "        def on_epoch_end(self, epoch, logs={}):\n",
    "            if logs.get('acc') and (logs.get('acc')>DESIRED_ACCURACY):\n",
    "                print(\"\\nReached 99% accuracy so cancelling training!\")\n",
    "                self.model.stop_training = True\n",
    "\n",
    "    callbacks = myCallback()\n",
    "    \n",
    "    model = tf.keras.models.Sequential([\n",
    "        Conv2D(16, 3, activation=\"relu\", input_shape=(150, 150, 3)),\n",
    "        MaxPooling2D((2, 2)),\n",
    "        Conv2D(32, 3, activation=\"relu\"),\n",
    "        MaxPooling2D((2, 2)),\n",
    "        Conv2D(64, 3, activation=\"relu\"),\n",
    "        MaxPooling2D((2, 2)),\n",
    "        Flatten(),\n",
    "        Dense(128, activation='relu'),\n",
    "        Dense(1, activation=\"sigmoid\")\n",
    "    ])\n",
    "\n",
    "    model.compile(optimizer=RMSprop(lr=0.001), loss='binary_crossentropy', metrics=['accuracy'])\n",
    "    \n",
    "    \n",
    "\n",
    "\n",
    "    train_datagen = ImageDataGenerator(rescale = 1./255)\n",
    "    train_dir = \"/tmp/h-or-s\"\n",
    "    train_generator = train_datagen.flow_from_directory(\n",
    "        train_dir,\n",
    "        target_size = (150,150),\n",
    "        batch_size =  128,\n",
    "        class_mode = \"binary\"\n",
    "        )\n",
    "    \n",
    "    history = model.fit_generator(\n",
    "        train_generator,\n",
    "        steps_per_epoch = 8,\n",
    "        epochs = 10,\n",
    "        validation_steps = 8,\n",
    "        verbose = 2,\n",
    "        callbacks = [callbacks])\n",
    "    # model fitting\n",
    "    return history.history['accuracy'][-1]"
   ]
  },
  {
   "cell_type": "code",
   "execution_count": 8,
   "id": "06dd61d0-e2be-442d-a51e-8d4e7b967aa5",
   "metadata": {},
   "outputs": [
    {
     "name": "stdout",
     "output_type": "stream",
     "text": [
      "Found 80 images belonging to 2 classes.\n",
      "Epoch 1/10\n",
      "WARNING:tensorflow:Your input ran out of data; interrupting training. Make sure that your dataset or generator can generate at least `steps_per_epoch * epochs` batches (in this case, 80 batches). You may need to use the repeat() function when building your dataset.\n",
      "8/8 - 1s - loss: 0.6899 - accuracy: 0.5000\n"
     ]
    },
    {
     "data": {
      "text/plain": [
       "0.5"
      ]
     },
     "execution_count": 8,
     "metadata": {},
     "output_type": "execute_result"
    }
   ],
   "source": [
    "train_happy_sad_model()"
   ]
  }
 ],
 "metadata": {
  "kernelspec": {
   "display_name": "Python 3",
   "language": "python",
   "name": "python3"
  },
  "language_info": {
   "codemirror_mode": {
    "name": "ipython",
    "version": 3
   },
   "file_extension": ".py",
   "mimetype": "text/x-python",
   "name": "python",
   "nbconvert_exporter": "python",
   "pygments_lexer": "ipython3",
   "version": "3.8.5"
  }
 },
 "nbformat": 4,
 "nbformat_minor": 5
}
