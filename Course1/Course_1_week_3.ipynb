{
 "cells": [
  {
   "cell_type": "code",
   "execution_count": 2,
   "id": "5f342c84-db31-4fa1-a154-c5a9653de579",
   "metadata": {},
   "outputs": [],
   "source": [
    "import numpy as np\n",
    "import tensorflow as tf\n",
    "from os import path, getcwd, chdir\n",
    "from tensorflow.keras.models import Sequential\n",
    "from tensorflow.keras.layers import Conv2D, Dense, MaxPooling2D, Flatten\n",
    "\n",
    "path = f\"{getcwd()}/mnist.npz\""
   ]
  },
  {
   "cell_type": "code",
   "execution_count": 3,
   "id": "d985ba12-a4a0-495c-9315-60819d18e1e8",
   "metadata": {},
   "outputs": [],
   "source": [
    "class myCallback(tf.keras.callbacks.Callback):\n",
    "    def on_epoch_end(self, epoch, logs={}):\n",
    "        if logs.get('accuracy') and (logs.get('accuracy')>0.998):\n",
    "            print(\"\\nReached 99% accuracy so cancelling training!\")\n",
    "            self.model.stop_training = True\n",
    "            \n",
    "def train_mnist_conv():\n",
    "\n",
    "    mnist = tf.keras.datasets.mnist\n",
    "    (x_train, y_train), (x_test, y_test) = mnist.load_data(path=path)\n",
    "    \n",
    "    x_train = np.expand_dims(x_train, axis=3)\n",
    "    x_test = np.expand_dims(x_test, axis=3)\n",
    "    \n",
    "    x_train = x_train / 255.0\n",
    "    x_test = x_test / 255.0\n",
    "\n",
    "    model = tf.keras.models.Sequential([\n",
    "            Conv2D(64, 3, activation=\"relu\", input_shape=(28, 28, 1)),\n",
    "            MaxPooling2D((2, 2)),\n",
    "            Flatten(),\n",
    "            Dense(128, activation='relu'),\n",
    "            Dense(10, activation=\"softmax\")\n",
    "    ])\n",
    "    callback = myCallback() \n",
    "    model.compile(optimizer='adam', loss='sparse_categorical_crossentropy', metrics=['accuracy'])\n",
    "    \n",
    "    # model fitting\n",
    "    history = model.fit(\n",
    "        x_train, y_train, epochs=20, batch_size=128,\n",
    "        validation_data=(x_test, y_test), callbacks=[callback]\n",
    "    )\n",
    "    return history.epoch, history.history['accuracy'][-1]\n",
    "\n"
   ]
  },
  {
   "cell_type": "code",
   "execution_count": 4,
   "id": "db3fad91-2391-403a-b180-199dcfac84ec",
   "metadata": {},
   "outputs": [
    {
     "name": "stdout",
     "output_type": "stream",
     "text": [
      "Epoch 1/20\n",
      "469/469 [==============================] - 48s 95ms/step - loss: 0.3947 - accuracy: 0.8851 - val_loss: 0.0840 - val_accuracy: 0.9739\n",
      "Epoch 2/20\n",
      "469/469 [==============================] - 44s 95ms/step - loss: 0.0664 - accuracy: 0.9806 - val_loss: 0.0538 - val_accuracy: 0.9818\n",
      "Epoch 3/20\n",
      "469/469 [==============================] - 50s 108ms/step - loss: 0.0414 - accuracy: 0.9872 - val_loss: 0.0470 - val_accuracy: 0.9842\n",
      "Epoch 4/20\n",
      "469/469 [==============================] - 43s 92ms/step - loss: 0.0270 - accuracy: 0.9920 - val_loss: 0.0441 - val_accuracy: 0.9847\n",
      "Epoch 5/20\n",
      "469/469 [==============================] - 47s 100ms/step - loss: 0.0217 - accuracy: 0.9941 - val_loss: 0.0390 - val_accuracy: 0.9870\n",
      "Epoch 6/20\n",
      "469/469 [==============================] - 42s 89ms/step - loss: 0.0158 - accuracy: 0.9950 - val_loss: 0.0427 - val_accuracy: 0.9861\n",
      "Epoch 7/20\n",
      "469/469 [==============================] - 48s 103ms/step - loss: 0.0097 - accuracy: 0.9974 - val_loss: 0.0390 - val_accuracy: 0.9875\n",
      "Epoch 8/20\n",
      "469/469 [==============================] - 49s 104ms/step - loss: 0.0074 - accuracy: 0.9981 - val_loss: 0.0543 - val_accuracy: 0.9819\n",
      "Epoch 9/20\n",
      "469/469 [==============================] - 34s 73ms/step - loss: 0.0079 - accuracy: 0.9977 - val_loss: 0.0447 - val_accuracy: 0.9868\n",
      "\n",
      "Reached 99% accuracy so cancelling training!\n"
     ]
    }
   ],
   "source": [
    "_, _ = train_mnist_conv()"
   ]
  },
  {
   "cell_type": "code",
   "execution_count": null,
   "id": "9a5b799c-d3d9-434d-a663-d3b87982bc17",
   "metadata": {},
   "outputs": [],
   "source": []
  }
 ],
 "metadata": {
  "kernelspec": {
   "display_name": "Python 3",
   "language": "python",
   "name": "python3"
  },
  "language_info": {
   "codemirror_mode": {
    "name": "ipython",
    "version": 3
   },
   "file_extension": ".py",
   "mimetype": "text/x-python",
   "name": "python",
   "nbconvert_exporter": "python",
   "pygments_lexer": "ipython3",
   "version": "3.8.5"
  }
 },
 "nbformat": 4,
 "nbformat_minor": 5
}
